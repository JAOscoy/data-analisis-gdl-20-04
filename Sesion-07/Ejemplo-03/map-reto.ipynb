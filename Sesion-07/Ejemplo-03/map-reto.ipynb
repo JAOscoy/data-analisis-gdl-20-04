{
 "cells": [
  {
   "cell_type": "markdown",
   "metadata": {},
   "source": [
    "## Reto 3: Map\n",
    "\n",
    "### 1. Objetivos:\n",
    "    - Practicar el uso del método `map` para mapear un dato a otro dato que le corresponde.\n",
    "    \n",
    "---\n",
    "    \n",
    "### 2. Desarrollo:"
   ]
  },
  {
   "cell_type": "markdown",
   "metadata": {},
   "source": [
    "#### a) Booleanos a numéricos\n",
    "\n",
    "Vamos a trabajar sobre el dataset que guardaste en el Reto anterior. Esta vez tu Reto es muy sencillo:\n",
    "\n",
    "1. La columna `is_potentially_hazardous_asteroid` tiene valores `booleanos`. Crea un diccionario de mapeo donde hagas un correspondencia de cada valor `booleano` con su equivalente numérico y transforma esa columna.\n",
    "2. Usa una función para mapear la columna `relative_velocity.kilometers_per_hour` a una nueva columna llamada `relative_velocity.kilometers_per_minute`, que contenga la velocidad del objeto en kilómetros por minuto.\n",
    "3. Guarda tu `DataFrame` resultante en la variable `df_reto_3`.\n",
    "4. Guarda tu resultado en un archivo .csv."
   ]
  },
  {
   "cell_type": "code",
   "execution_count": null,
   "metadata": {},
   "outputs": [],
   "source": [
    "import pandas as pd"
   ]
  },
  {
   "cell_type": "code",
   "execution_count": null,
   "metadata": {},
   "outputs": [],
   "source": [
    "df_reto_3 = pd.read_csv(\"../Ejemplo-02/objetos_cercanos_2.csv\", index_col=0)\n",
    "df_reto_3.head(3)"
   ]
  },
  {
   "cell_type": "code",
   "execution_count": null,
   "metadata": {},
   "outputs": [],
   "source": [
    "# analiza"
   ]
  },
  {
   "cell_type": "code",
   "execution_count": null,
   "metadata": {},
   "outputs": [],
   "source": [
    "# mapea\n",
    "...\n",
    "df_reto_3[\"is_potentially_hazardous_asteroid\"]"
   ]
  },
  {
   "cell_type": "code",
   "execution_count": null,
   "metadata": {},
   "outputs": [],
   "source": [
    "# analiza"
   ]
  },
  {
   "cell_type": "code",
   "execution_count": null,
   "metadata": {},
   "outputs": [],
   "source": [
    "# transforma usando función\n",
    "...\n",
    "df_reto_3[\"relative_velocity.kilometers_per_minute\"]"
   ]
  },
  {
   "cell_type": "code",
   "execution_count": null,
   "metadata": {},
   "outputs": [],
   "source": [
    "# guarda resultado al archivo objetos_cercanos_3.csv"
   ]
  },
  {
   "cell_type": "code",
   "execution_count": null,
   "metadata": {},
   "outputs": [],
   "source": []
  }
 ],
 "metadata": {
  "kernelspec": {
   "display_name": "Python 3",
   "language": "python",
   "name": "python3"
  },
  "language_info": {
   "codemirror_mode": {
    "name": "ipython",
    "version": 3
   },
   "file_extension": ".py",
   "mimetype": "text/x-python",
   "name": "python",
   "nbconvert_exporter": "python",
   "pygments_lexer": "ipython3",
   "version": "3.7.4"
  }
 },
 "nbformat": 4,
 "nbformat_minor": 4
}
